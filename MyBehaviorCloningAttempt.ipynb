{
 "cells": [
  {
   "cell_type": "code",
   "execution_count": 1,
   "metadata": {},
   "outputs": [],
   "source": [
    "import numpy as np\n",
    "import gym\n",
    "import torch\n",
    "import torch.nn as nn\n",
    "import torch.functional as F\n",
    "from tqdm import trange\n",
    "import scipy\n",
    "import scipy.stats\n",
    "from matplotlib import pyplot as plt\n",
    "plt.style.use(\"ggplot\")"
   ]
  },
  {
   "cell_type": "code",
   "execution_count": 2,
   "metadata": {},
   "outputs": [],
   "source": [
    "expert_states  = torch.tensor(np.load(\"states_expert_Pendulum.npy\"), dtype=torch.float)\n",
    "expert_actions = torch.tensor(np.load(\"actions_expert_Pendulum.npy\"), dtype=torch.float)"
   ]
  },
  {
   "cell_type": "code",
   "execution_count": 3,
   "metadata": {},
   "outputs": [
    {
     "data": {
      "text/plain": [
       "(torch.Size([500, 200, 3]), torch.Size([500, 200, 1]))"
      ]
     },
     "execution_count": 3,
     "metadata": {},
     "output_type": "execute_result"
    }
   ],
   "source": [
    "expert_states.shape, expert_actions.shape"
   ]
  },
  {
   "cell_type": "code",
   "execution_count": 4,
   "metadata": {},
   "outputs": [
    {
     "data": {
      "text/plain": [
       "(3, 1)"
      ]
     },
     "execution_count": 4,
     "metadata": {},
     "output_type": "execute_result"
    }
   ],
   "source": [
    "env_name = \"Pendulum-v1\"\n",
    "env = gym.make(env_name)\n",
    "action_space_size = env.action_space.shape[0]\n",
    "state_space_size  = env.observation_space.shape[0]\n",
    "state_space_size, action_space_size"
   ]
  },
  {
   "cell_type": "code",
   "execution_count": 5,
   "metadata": {},
   "outputs": [],
   "source": [
    "# constants, parameters\n",
    "\n",
    "# BC data param's\n",
    "NUM_HUMAN_PTS = 25 # number of episodes\n",
    "NUM_HUMAN_PTS2 = 5 # number of time points\n",
    "# if this is <0, NUM_HUMAN_PTS2 is not used, should be 199*NUM_HUMAN_PTS\n",
    "\n",
    "#NUM_HUMAN_PTS = 25 # number of episodes\n",
    "#NUM_HUMAN_PTS2 = 5 # number of time points\n",
    "\n",
    "# NN param's\n",
    "NUM_TR_EPOCHS = 300\n",
    "BATCH_SIZE = 256\n",
    "LR = 0.0001\n",
    "LOSS_FUNC = nn.MSELoss()\n",
    "# things tried:\n",
    "# NUM_TR_EPOCHS = 300 # overfits\n",
    "# LOSS_FUNC = nn.L1Loss() # doesn't help\n",
    "# LR = .001 # gets it so that BC reward > Expert reward !\n",
    "# NUM_HUMAN_PTS = 100 # gets it so that BC reward > Expert reward !\n",
    "\n",
    "N_PLOT_ACTION = 250 # for 3D viz.\n",
    "\n",
    "NUM_ITERATIONS = 25\n",
    "N_PLOT_EPISODES = 25\n",
    "# things tried\n",
    "# NUM_ITERATIONS = 6\n",
    "# N_PLOT_EPISODES = 50\n",
    "\n",
    "# saving\n",
    "LOSS_PLOT_PREFIX_FNAME = 'loss_plot'\n",
    "COMPARISON_PLOT_PREFIX_FNAME = 'compare_plot'"
   ]
  },
  {
   "cell_type": "markdown",
   "metadata": {},
   "source": [
    "Sample a Dataset of expert behavior \n",
    "\n",
    "    (state (3,) -> action (1,)) or \n",
    "    (*state, action)(4,)\n",
    "\n",
    "The data samples will be collected by taking NUM_HUMAN_PTS2 samples from NUM_HUMAN_PTS episodes of the expert behavior data. "
   ]
  },
  {
   "cell_type": "code",
   "execution_count": 6,
   "metadata": {},
   "outputs": [
    {
     "data": {
      "text/plain": [
       "torch.Size([125, 4])"
      ]
     },
     "execution_count": 6,
     "metadata": {},
     "output_type": "execute_result"
    }
   ],
   "source": [
    "sampled_data = torch.concat([expert_states, expert_actions], 2)[:NUM_HUMAN_PTS, slice(None) if NUM_HUMAN_PTS2 <= 0 else slice(NUM_HUMAN_PTS2)]\n",
    "sampled_data = sampled_data.reshape((-1, 4))\n",
    "sampled_data = sampled_data[torch.randperm(sampled_data.shape[0])]\n",
    "sampled_data.shape"
   ]
  },
  {
   "cell_type": "code",
   "execution_count": 7,
   "metadata": {},
   "outputs": [
    {
     "name": "stdout",
     "output_type": "stream",
     "text": [
      "training_set torch.Size([87, 4])\n",
      "testing_set torch.Size([38, 4])\n"
     ]
    }
   ],
   "source": [
    "training_samples = int(sampled_data.shape[0]*0.7)\n",
    "training_set = sampled_data[:training_samples]\n",
    "testing_set = sampled_data[training_samples:]\n",
    "print(\"training_set\", training_set.shape)\n",
    "print(\"testing_set\", testing_set.shape)"
   ]
  },
  {
   "cell_type": "code",
   "execution_count": 8,
   "metadata": {},
   "outputs": [],
   "source": [
    "bc_pendulum = nn.Sequential(\n",
    "    nn.Linear(state_space_size, 40),\n",
    "    nn.ReLU(),\n",
    "    nn.Linear(40, 80),\n",
    "    nn.ReLU(),\n",
    "    nn.Linear(80, 120),\n",
    "    nn.ReLU(),\n",
    "    nn.Linear(120, 100),\n",
    "    nn.ReLU(),\n",
    "    nn.Linear(100, 40),\n",
    "    nn.ReLU(),\n",
    "    nn.Linear(40, 20),\n",
    "    nn.ReLU(),\n",
    "    nn.Linear(20, action_space_size)\n",
    ")\n",
    "criterion = LOSS_FUNC\n",
    "learning_rate = LR\n",
    "optimizer = torch.optim.Adam(bc_pendulum.parameters(), lr=learning_rate)"
   ]
  },
  {
   "cell_type": "code",
   "execution_count": 9,
   "metadata": {},
   "outputs": [
    {
     "name": "stdout",
     "output_type": "stream",
     "text": [
      "[EPOCH]: 1, [MSE LOSS]: 2.443542\n",
      "[EPOCH]: 2, [MSE LOSS]: 2.442266\n",
      "[EPOCH]: 3, [MSE LOSS]: 2.440971\n",
      "[EPOCH]: 4, [MSE LOSS]: 2.439679\n",
      "[EPOCH]: 5, [MSE LOSS]: 2.438410\n",
      "[EPOCH]: 6, [MSE LOSS]: 2.437171\n",
      "[EPOCH]: 7, [MSE LOSS]: 2.435971\n",
      "[EPOCH]: 8, [MSE LOSS]: 2.434808\n",
      "[EPOCH]: 9, [MSE LOSS]: 2.433661\n",
      "[EPOCH]: 10, [MSE LOSS]: 2.432519\n",
      "[EPOCH]: 11, [MSE LOSS]: 2.431387\n",
      "[EPOCH]: 12, [MSE LOSS]: 2.430271\n",
      "[EPOCH]: 13, [MSE LOSS]: 2.429179\n",
      "[EPOCH]: 14, [MSE LOSS]: 2.428121\n",
      "[EPOCH]: 15, [MSE LOSS]: 2.427111\n",
      "[EPOCH]: 16, [MSE LOSS]: 2.426108\n",
      "[EPOCH]: 17, [MSE LOSS]: 2.425105\n",
      "[EPOCH]: 18, [MSE LOSS]: 2.424118\n",
      "[EPOCH]: 19, [MSE LOSS]: 2.423114\n",
      "[EPOCH]: 20, [MSE LOSS]: 2.422098\n",
      "[EPOCH]: 21, [MSE LOSS]: 2.421084\n",
      "[EPOCH]: 22, [MSE LOSS]: 2.420065\n",
      "[EPOCH]: 23, [MSE LOSS]: 2.419033\n",
      "[EPOCH]: 24, [MSE LOSS]: 2.417995\n",
      "[EPOCH]: 25, [MSE LOSS]: 2.416951\n",
      "[EPOCH]: 26, [MSE LOSS]: 2.415900\n",
      "[EPOCH]: 27, [MSE LOSS]: 2.414829\n",
      "[EPOCH]: 28, [MSE LOSS]: 2.413741\n",
      "[EPOCH]: 29, [MSE LOSS]: 2.412635\n",
      "[EPOCH]: 30, [MSE LOSS]: 2.411510\n",
      "[EPOCH]: 31, [MSE LOSS]: 2.410369\n",
      "[EPOCH]: 32, [MSE LOSS]: 2.409210\n",
      "[EPOCH]: 33, [MSE LOSS]: 2.408035\n",
      "[EPOCH]: 34, [MSE LOSS]: 2.406837\n",
      "[EPOCH]: 35, [MSE LOSS]: 2.405617\n",
      "[EPOCH]: 36, [MSE LOSS]: 2.404377\n",
      "[EPOCH]: 37, [MSE LOSS]: 2.403115\n",
      "[EPOCH]: 38, [MSE LOSS]: 2.401822\n",
      "[EPOCH]: 39, [MSE LOSS]: 2.400498\n",
      "[EPOCH]: 40, [MSE LOSS]: 2.399143\n",
      "[EPOCH]: 41, [MSE LOSS]: 2.397759\n",
      "[EPOCH]: 42, [MSE LOSS]: 2.396344\n",
      "[EPOCH]: 43, [MSE LOSS]: 2.394899\n",
      "[EPOCH]: 44, [MSE LOSS]: 2.393437\n",
      "[EPOCH]: 45, [MSE LOSS]: 2.391948\n",
      "[EPOCH]: 46, [MSE LOSS]: 2.390431\n",
      "[EPOCH]: 47, [MSE LOSS]: 2.388884\n",
      "[EPOCH]: 48, [MSE LOSS]: 2.387296\n",
      "[EPOCH]: 49, [MSE LOSS]: 2.385659\n",
      "[EPOCH]: 50, [MSE LOSS]: 2.383977\n",
      "[EPOCH]: 51, [MSE LOSS]: 2.382259\n",
      "[EPOCH]: 52, [MSE LOSS]: 2.380499\n",
      "[EPOCH]: 53, [MSE LOSS]: 2.378712\n",
      "[EPOCH]: 54, [MSE LOSS]: 2.376878\n",
      "[EPOCH]: 55, [MSE LOSS]: 2.374988\n",
      "[EPOCH]: 56, [MSE LOSS]: 2.373072\n",
      "[EPOCH]: 57, [MSE LOSS]: 2.371121\n",
      "[EPOCH]: 58, [MSE LOSS]: 2.369123\n",
      "[EPOCH]: 59, [MSE LOSS]: 2.367094\n",
      "[EPOCH]: 60, [MSE LOSS]: 2.365041\n",
      "[EPOCH]: 61, [MSE LOSS]: 2.362957\n",
      "[EPOCH]: 62, [MSE LOSS]: 2.360833\n",
      "[EPOCH]: 63, [MSE LOSS]: 2.358674\n",
      "[EPOCH]: 64, [MSE LOSS]: 2.356474\n",
      "[EPOCH]: 65, [MSE LOSS]: 2.354235\n",
      "[EPOCH]: 66, [MSE LOSS]: 2.351950\n",
      "[EPOCH]: 67, [MSE LOSS]: 2.349626\n",
      "[EPOCH]: 68, [MSE LOSS]: 2.347253\n",
      "[EPOCH]: 69, [MSE LOSS]: 2.344820\n",
      "[EPOCH]: 70, [MSE LOSS]: 2.342341\n",
      "[EPOCH]: 71, [MSE LOSS]: 2.339785\n",
      "[EPOCH]: 72, [MSE LOSS]: 2.337168\n",
      "[EPOCH]: 73, [MSE LOSS]: 2.334486\n",
      "[EPOCH]: 74, [MSE LOSS]: 2.331734\n",
      "[EPOCH]: 75, [MSE LOSS]: 2.328912\n",
      "[EPOCH]: 76, [MSE LOSS]: 2.326010\n",
      "[EPOCH]: 77, [MSE LOSS]: 2.323042\n",
      "[EPOCH]: 78, [MSE LOSS]: 2.320007\n",
      "[EPOCH]: 79, [MSE LOSS]: 2.316916\n",
      "[EPOCH]: 80, [MSE LOSS]: 2.313763\n",
      "[EPOCH]: 81, [MSE LOSS]: 2.310528\n",
      "[EPOCH]: 82, [MSE LOSS]: 2.307226\n",
      "[EPOCH]: 83, [MSE LOSS]: 2.303772\n",
      "[EPOCH]: 84, [MSE LOSS]: 2.300190\n",
      "[EPOCH]: 85, [MSE LOSS]: 2.296520\n",
      "[EPOCH]: 86, [MSE LOSS]: 2.292747\n",
      "[EPOCH]: 87, [MSE LOSS]: 2.288843\n",
      "[EPOCH]: 88, [MSE LOSS]: 2.284771\n",
      "[EPOCH]: 89, [MSE LOSS]: 2.280538\n",
      "[EPOCH]: 90, [MSE LOSS]: 2.276144\n",
      "[EPOCH]: 91, [MSE LOSS]: 2.271620\n",
      "[EPOCH]: 92, [MSE LOSS]: 2.266891\n",
      "[EPOCH]: 93, [MSE LOSS]: 2.261955\n",
      "[EPOCH]: 94, [MSE LOSS]: 2.256849\n",
      "[EPOCH]: 95, [MSE LOSS]: 2.251597\n",
      "[EPOCH]: 96, [MSE LOSS]: 2.246202\n",
      "[EPOCH]: 97, [MSE LOSS]: 2.240695\n",
      "[EPOCH]: 98, [MSE LOSS]: 2.235071\n",
      "[EPOCH]: 99, [MSE LOSS]: 2.229271\n",
      "[EPOCH]: 100, [MSE LOSS]: 2.223382\n",
      "[EPOCH]: 101, [MSE LOSS]: 2.217402\n",
      "[EPOCH]: 102, [MSE LOSS]: 2.211252\n",
      "[EPOCH]: 103, [MSE LOSS]: 2.205037\n",
      "[EPOCH]: 104, [MSE LOSS]: 2.198740\n",
      "[EPOCH]: 105, [MSE LOSS]: 2.192300\n",
      "[EPOCH]: 106, [MSE LOSS]: 2.185740\n",
      "[EPOCH]: 107, [MSE LOSS]: 2.179058\n",
      "[EPOCH]: 108, [MSE LOSS]: 2.172205\n",
      "[EPOCH]: 109, [MSE LOSS]: 2.165185\n",
      "[EPOCH]: 110, [MSE LOSS]: 2.158032\n",
      "[EPOCH]: 111, [MSE LOSS]: 2.150717\n",
      "[EPOCH]: 112, [MSE LOSS]: 2.143239\n",
      "[EPOCH]: 113, [MSE LOSS]: 2.135683\n",
      "[EPOCH]: 114, [MSE LOSS]: 2.127966\n",
      "[EPOCH]: 115, [MSE LOSS]: 2.120216\n",
      "[EPOCH]: 116, [MSE LOSS]: 2.112401\n",
      "[EPOCH]: 117, [MSE LOSS]: 2.104489\n",
      "[EPOCH]: 118, [MSE LOSS]: 2.096444\n",
      "[EPOCH]: 119, [MSE LOSS]: 2.088222\n",
      "[EPOCH]: 120, [MSE LOSS]: 2.079804\n",
      "[EPOCH]: 121, [MSE LOSS]: 2.071120\n",
      "[EPOCH]: 122, [MSE LOSS]: 2.062216\n",
      "[EPOCH]: 123, [MSE LOSS]: 2.053153\n",
      "[EPOCH]: 124, [MSE LOSS]: 2.043928\n",
      "[EPOCH]: 125, [MSE LOSS]: 2.034499\n",
      "[EPOCH]: 126, [MSE LOSS]: 2.024773\n",
      "[EPOCH]: 127, [MSE LOSS]: 2.014897\n",
      "[EPOCH]: 128, [MSE LOSS]: 2.004867\n",
      "[EPOCH]: 129, [MSE LOSS]: 1.994706\n",
      "[EPOCH]: 130, [MSE LOSS]: 1.984419\n",
      "[EPOCH]: 131, [MSE LOSS]: 1.973916\n",
      "[EPOCH]: 132, [MSE LOSS]: 1.963197\n",
      "[EPOCH]: 133, [MSE LOSS]: 1.952302\n",
      "[EPOCH]: 134, [MSE LOSS]: 1.941278\n",
      "[EPOCH]: 135, [MSE LOSS]: 1.930022\n",
      "[EPOCH]: 136, [MSE LOSS]: 1.918527\n",
      "[EPOCH]: 137, [MSE LOSS]: 1.906745\n",
      "[EPOCH]: 138, [MSE LOSS]: 1.894669\n",
      "[EPOCH]: 139, [MSE LOSS]: 1.882366\n",
      "[EPOCH]: 140, [MSE LOSS]: 1.869901\n",
      "[EPOCH]: 141, [MSE LOSS]: 1.857276\n",
      "[EPOCH]: 142, [MSE LOSS]: 1.844513\n",
      "[EPOCH]: 143, [MSE LOSS]: 1.831657\n",
      "[EPOCH]: 144, [MSE LOSS]: 1.818707\n",
      "[EPOCH]: 145, [MSE LOSS]: 1.805672\n",
      "[EPOCH]: 146, [MSE LOSS]: 1.792619\n",
      "[EPOCH]: 147, [MSE LOSS]: 1.779556\n",
      "[EPOCH]: 148, [MSE LOSS]: 1.766512\n",
      "[EPOCH]: 149, [MSE LOSS]: 1.753500\n",
      "[EPOCH]: 150, [MSE LOSS]: 1.740524\n",
      "[EPOCH]: 151, [MSE LOSS]: 1.727581\n",
      "[EPOCH]: 152, [MSE LOSS]: 1.714719\n",
      "[EPOCH]: 153, [MSE LOSS]: 1.701933\n",
      "[EPOCH]: 154, [MSE LOSS]: 1.689223\n",
      "[EPOCH]: 155, [MSE LOSS]: 1.676679\n",
      "[EPOCH]: 156, [MSE LOSS]: 1.664340\n",
      "[EPOCH]: 157, [MSE LOSS]: 1.652208\n",
      "[EPOCH]: 158, [MSE LOSS]: 1.640294\n",
      "[EPOCH]: 159, [MSE LOSS]: 1.628573\n",
      "[EPOCH]: 160, [MSE LOSS]: 1.617088\n",
      "[EPOCH]: 161, [MSE LOSS]: 1.605850\n",
      "[EPOCH]: 162, [MSE LOSS]: 1.594880\n",
      "[EPOCH]: 163, [MSE LOSS]: 1.584141\n",
      "[EPOCH]: 164, [MSE LOSS]: 1.573670\n",
      "[EPOCH]: 165, [MSE LOSS]: 1.563493\n",
      "[EPOCH]: 166, [MSE LOSS]: 1.553578\n",
      "[EPOCH]: 167, [MSE LOSS]: 1.543966\n",
      "[EPOCH]: 168, [MSE LOSS]: 1.534720\n",
      "[EPOCH]: 169, [MSE LOSS]: 1.525792\n",
      "[EPOCH]: 170, [MSE LOSS]: 1.517180\n",
      "[EPOCH]: 171, [MSE LOSS]: 1.508904\n",
      "[EPOCH]: 172, [MSE LOSS]: 1.500978\n",
      "[EPOCH]: 173, [MSE LOSS]: 1.493356\n",
      "[EPOCH]: 174, [MSE LOSS]: 1.485963\n",
      "[EPOCH]: 175, [MSE LOSS]: 1.478800\n",
      "[EPOCH]: 176, [MSE LOSS]: 1.471886\n",
      "[EPOCH]: 177, [MSE LOSS]: 1.465200\n",
      "[EPOCH]: 178, [MSE LOSS]: 1.458693\n",
      "[EPOCH]: 179, [MSE LOSS]: 1.452337\n",
      "[EPOCH]: 180, [MSE LOSS]: 1.446109\n",
      "[EPOCH]: 181, [MSE LOSS]: 1.440045\n",
      "[EPOCH]: 182, [MSE LOSS]: 1.434111\n",
      "[EPOCH]: 183, [MSE LOSS]: 1.428284\n",
      "[EPOCH]: 184, [MSE LOSS]: 1.422557\n",
      "[EPOCH]: 185, [MSE LOSS]: 1.416932\n",
      "[EPOCH]: 186, [MSE LOSS]: 1.411427\n",
      "[EPOCH]: 187, [MSE LOSS]: 1.406065\n",
      "[EPOCH]: 188, [MSE LOSS]: 1.400788\n",
      "[EPOCH]: 189, [MSE LOSS]: 1.395687\n",
      "[EPOCH]: 190, [MSE LOSS]: 1.390707\n",
      "[EPOCH]: 191, [MSE LOSS]: 1.385837\n",
      "[EPOCH]: 192, [MSE LOSS]: 1.381107\n",
      "[EPOCH]: 193, [MSE LOSS]: 1.376535\n",
      "[EPOCH]: 194, [MSE LOSS]: 1.372125\n",
      "[EPOCH]: 195, [MSE LOSS]: 1.367829\n",
      "[EPOCH]: 196, [MSE LOSS]: 1.363669\n",
      "[EPOCH]: 197, [MSE LOSS]: 1.359640\n",
      "[EPOCH]: 198, [MSE LOSS]: 1.355778\n",
      "[EPOCH]: 199, [MSE LOSS]: 1.352098\n",
      "[EPOCH]: 200, [MSE LOSS]: 1.348571\n",
      "[EPOCH]: 201, [MSE LOSS]: 1.345216\n",
      "[EPOCH]: 202, [MSE LOSS]: 1.342005\n",
      "[EPOCH]: 203, [MSE LOSS]: 1.338917\n",
      "[EPOCH]: 204, [MSE LOSS]: 1.335954\n",
      "[EPOCH]: 205, [MSE LOSS]: 1.333105\n",
      "[EPOCH]: 206, [MSE LOSS]: 1.330382\n",
      "[EPOCH]: 207, [MSE LOSS]: 1.327790\n",
      "[EPOCH]: 208, [MSE LOSS]: 1.325325\n",
      "[EPOCH]: 209, [MSE LOSS]: 1.322944\n",
      "[EPOCH]: 210, [MSE LOSS]: 1.320671\n",
      "[EPOCH]: 211, [MSE LOSS]: 1.318512\n",
      "[EPOCH]: 212, [MSE LOSS]: 1.316444\n",
      "[EPOCH]: 213, [MSE LOSS]: 1.314447\n",
      "[EPOCH]: 214, [MSE LOSS]: 1.312517\n",
      "[EPOCH]: 215, [MSE LOSS]: 1.310650\n",
      "[EPOCH]: 216, [MSE LOSS]: 1.308824\n",
      "[EPOCH]: 217, [MSE LOSS]: 1.307034\n",
      "[EPOCH]: 218, [MSE LOSS]: 1.305271\n",
      "[EPOCH]: 219, [MSE LOSS]: 1.303549\n",
      "[EPOCH]: 220, [MSE LOSS]: 1.301889\n",
      "[EPOCH]: 221, [MSE LOSS]: 1.300294\n",
      "[EPOCH]: 222, [MSE LOSS]: 1.298731\n",
      "[EPOCH]: 223, [MSE LOSS]: 1.297178\n",
      "[EPOCH]: 224, [MSE LOSS]: 1.295632\n",
      "[EPOCH]: 225, [MSE LOSS]: 1.294104\n",
      "[EPOCH]: 226, [MSE LOSS]: 1.292588\n",
      "[EPOCH]: 227, [MSE LOSS]: 1.291088\n",
      "[EPOCH]: 228, [MSE LOSS]: 1.289598\n",
      "[EPOCH]: 229, [MSE LOSS]: 1.288110\n",
      "[EPOCH]: 230, [MSE LOSS]: 1.286626\n",
      "[EPOCH]: 231, [MSE LOSS]: 1.285171\n",
      "[EPOCH]: 232, [MSE LOSS]: 1.283721\n",
      "[EPOCH]: 233, [MSE LOSS]: 1.282266\n",
      "[EPOCH]: 234, [MSE LOSS]: 1.280831\n",
      "[EPOCH]: 235, [MSE LOSS]: 1.279408\n",
      "[EPOCH]: 236, [MSE LOSS]: 1.277989\n",
      "[EPOCH]: 237, [MSE LOSS]: 1.276564\n",
      "[EPOCH]: 238, [MSE LOSS]: 1.275151\n",
      "[EPOCH]: 239, [MSE LOSS]: 1.273750\n",
      "[EPOCH]: 240, [MSE LOSS]: 1.272356\n",
      "[EPOCH]: 241, [MSE LOSS]: 1.270968\n",
      "[EPOCH]: 242, [MSE LOSS]: 1.269590\n",
      "[EPOCH]: 243, [MSE LOSS]: 1.268222\n",
      "[EPOCH]: 244, [MSE LOSS]: 1.266860\n",
      "[EPOCH]: 245, [MSE LOSS]: 1.265519\n",
      "[EPOCH]: 246, [MSE LOSS]: 1.264182\n",
      "[EPOCH]: 247, [MSE LOSS]: 1.262834\n",
      "[EPOCH]: 248, [MSE LOSS]: 1.261495\n",
      "[EPOCH]: 249, [MSE LOSS]: 1.260159\n",
      "[EPOCH]: 250, [MSE LOSS]: 1.258821\n",
      "[EPOCH]: 251, [MSE LOSS]: 1.257482\n",
      "[EPOCH]: 252, [MSE LOSS]: 1.256157\n",
      "[EPOCH]: 253, [MSE LOSS]: 1.254836\n",
      "[EPOCH]: 254, [MSE LOSS]: 1.253517\n",
      "[EPOCH]: 255, [MSE LOSS]: 1.252201\n",
      "[EPOCH]: 256, [MSE LOSS]: 1.250884\n",
      "[EPOCH]: 257, [MSE LOSS]: 1.249563\n",
      "[EPOCH]: 258, [MSE LOSS]: 1.248244\n",
      "[EPOCH]: 259, [MSE LOSS]: 1.246921\n",
      "[EPOCH]: 260, [MSE LOSS]: 1.245605\n",
      "[EPOCH]: 261, [MSE LOSS]: 1.244289\n",
      "[EPOCH]: 262, [MSE LOSS]: 1.242974\n",
      "[EPOCH]: 263, [MSE LOSS]: 1.241657\n",
      "[EPOCH]: 264, [MSE LOSS]: 1.240338\n",
      "[EPOCH]: 265, [MSE LOSS]: 1.239021\n",
      "[EPOCH]: 266, [MSE LOSS]: 1.237705\n",
      "[EPOCH]: 267, [MSE LOSS]: 1.236389\n",
      "[EPOCH]: 268, [MSE LOSS]: 1.235071\n",
      "[EPOCH]: 269, [MSE LOSS]: 1.233755\n",
      "[EPOCH]: 270, [MSE LOSS]: 1.232439\n",
      "[EPOCH]: 271, [MSE LOSS]: 1.231125\n",
      "[EPOCH]: 272, [MSE LOSS]: 1.229812\n",
      "[EPOCH]: 273, [MSE LOSS]: 1.228497\n",
      "[EPOCH]: 274, [MSE LOSS]: 1.227179\n",
      "[EPOCH]: 275, [MSE LOSS]: 1.225859\n",
      "[EPOCH]: 276, [MSE LOSS]: 1.224546\n",
      "[EPOCH]: 277, [MSE LOSS]: 1.223235\n",
      "[EPOCH]: 278, [MSE LOSS]: 1.221916\n",
      "[EPOCH]: 279, [MSE LOSS]: 1.220589\n",
      "[EPOCH]: 280, [MSE LOSS]: 1.219259\n",
      "[EPOCH]: 281, [MSE LOSS]: 1.217925\n",
      "[EPOCH]: 282, [MSE LOSS]: 1.216592\n",
      "[EPOCH]: 283, [MSE LOSS]: 1.215254\n",
      "[EPOCH]: 284, [MSE LOSS]: 1.213915\n",
      "[EPOCH]: 285, [MSE LOSS]: 1.212572\n",
      "[EPOCH]: 286, [MSE LOSS]: 1.211225\n",
      "[EPOCH]: 287, [MSE LOSS]: 1.209876\n",
      "[EPOCH]: 288, [MSE LOSS]: 1.208535\n",
      "[EPOCH]: 289, [MSE LOSS]: 1.207195\n",
      "[EPOCH]: 290, [MSE LOSS]: 1.205857\n",
      "[EPOCH]: 291, [MSE LOSS]: 1.204515\n",
      "[EPOCH]: 292, [MSE LOSS]: 1.203172\n",
      "[EPOCH]: 293, [MSE LOSS]: 1.201821\n",
      "[EPOCH]: 294, [MSE LOSS]: 1.200461\n",
      "[EPOCH]: 295, [MSE LOSS]: 1.199098\n",
      "[EPOCH]: 296, [MSE LOSS]: 1.197735\n",
      "[EPOCH]: 297, [MSE LOSS]: 1.196364\n",
      "[EPOCH]: 298, [MSE LOSS]: 1.194990\n",
      "[EPOCH]: 299, [MSE LOSS]: 1.193614\n",
      "[EPOCH]: 300, [MSE LOSS]: 1.192233\n"
     ]
    }
   ],
   "source": [
    "loss_list = []\n",
    "test_loss = []\n",
    "batch_size = BATCH_SIZE\n",
    "num_batches = int(np.ceil(training_set.shape[0]/batch_size))\n",
    "n_epoch = NUM_TR_EPOCHS\n",
    "\n",
    "for itr in range(n_epoch):\n",
    "    total_loss = 0\n",
    "    for batch_i in range(num_batches):\n",
    "        data = training_set[batch_i*batch_size: (batch_i+1)*batch_size]\n",
    "        x      = data[:, :state_space_size]\n",
    "        y      = data[:, state_space_size:]\n",
    "        y_pred = bc_pendulum(x)\n",
    "        loss   = criterion(y_pred, y)\n",
    "        total_loss += loss.item()\n",
    "        optimizer.zero_grad()\n",
    "        loss.backward()\n",
    "        optimizer.step()\n",
    "    print(\"[EPOCH]: %i, [MSE LOSS]: %.6f\" % (itr+1, total_loss /num_batches))\n",
    "    # display.clear_output(wait=True)\n",
    "    loss_list.append(total_loss /num_batches)\n",
    "    x      = testing_set[:, :state_space_size]\n",
    "    y      = testing_set[:, state_space_size:]\n",
    "    with torch.no_grad():\n",
    "        y_pred = bc_pendulum(x)\n",
    "    loss   = criterion(y_pred, y).item()\n",
    "    test_loss.append(loss)\n",
    "    "
   ]
  },
  {
   "cell_type": "code",
   "execution_count": 10,
   "metadata": {},
   "outputs": [
    {
     "data": {
      "image/png": "[encoded data removed]",
      "text/plain": [
       "<Figure size 640x480 with 1 Axes>"
      ]
     },
     "metadata": {},
     "output_type": "display_data"
    }
   ],
   "source": [
    "plt.plot(test_loss, label=f'Testing Loss, LR {LR}, Epochs {n_epoch}')\n",
    "plt.xlabel(\"iterations\")\n",
    "plt.ylabel(\"loss\")\n",
    "plt.title(\"Testing loss over epochs\")\n",
    "plt.legend()\n",
    "plt.savefig(f\"{LOSS_PLOT_PREFIX_FNAME}_lr{LR}.png\")"
   ]
  },
  {
   "cell_type": "code",
   "execution_count": 11,
   "metadata": {},
   "outputs": [],
   "source": [
    "def plot_pendulum(ax, state, action, color='red'):\n",
    "    x, y = state[:, 0], state[:, 1]\n",
    "    z = action\n",
    "    ax.scatter(x, y, z, color=color)\n",
    "\n",
    "    # Set labels and title\n",
    "    ax.set_xlabel('X')\n",
    "    ax.set_ylabel('Y')\n",
    "    ax.set_zlabel('Action')\n",
    "\n",
    "    # Show the plot\n",
    "    return ax"
   ]
  },
  {
   "cell_type": "code",
   "execution_count": 12,
   "metadata": {},
   "outputs": [
    {
     "data": {
      "text/plain": [
       "torch.Size([38, 1])"
      ]
     },
     "execution_count": 12,
     "metadata": {},
     "output_type": "execute_result"
    }
   ],
   "source": [
    "y_pred.shape"
   ]
  },
  {
   "cell_type": "code",
   "execution_count": 13,
   "metadata": {},
   "outputs": [
    {
     "data": {
      "text/plain": [
       "<Axes3D: xlabel='X', ylabel='Y', zlabel='Action'>"
      ]
     },
     "execution_count": 13,
     "metadata": {},
     "output_type": "execute_result"
    },
    {
     "data": {
      "image/png": "[encoded data removed]",
      "text/plain": [
       "<Figure size 640x480 with 1 Axes>"
      ]
     },
     "metadata": {},
     "output_type": "display_data"
    }
   ],
   "source": [
    "ax = plt.subplot(111, projection='3d')\n",
    "plot_pendulum(ax, x[:N_PLOT_ACTION], y[:N_PLOT_ACTION, 0], color='blue')\n",
    "plot_pendulum(ax, x[:N_PLOT_ACTION], y_pred[:N_PLOT_ACTION, 0])\n"
   ]
  },
  {
   "cell_type": "markdown",
   "metadata": {},
   "source": [
    "### Render game play"
   ]
  },
  {
   "cell_type": "code",
   "execution_count": 14,
   "metadata": {},
   "outputs": [],
   "source": [
    "# enviz = gym.make(env_name, render_mode='human')"
   ]
  },
  {
   "cell_type": "code",
   "execution_count": 15,
   "metadata": {},
   "outputs": [],
   "source": [
    "# state = enviz.reset()[0]\n",
    "# terminateed = False\n",
    "# truncated = False\n",
    "# reward = 0\n",
    "# while not terminateed and not truncated:\n",
    "#     action = bc_pendulum(torch.from_numpy(state)).detach().clip(-2, 2).item()\n",
    "#     state, r, terminateed, truncated, _ = enviz.step([action])\n",
    "#     reward += r\n",
    "    \n",
    "    \n",
    "# print(f\"Terminated: {terminateed}\")\n",
    "# print(f\"Truncated: {truncated}\")\n",
    "# print(f\"Reward: {reward}\")"
   ]
  },
  {
   "cell_type": "code",
   "execution_count": 16,
   "metadata": {},
   "outputs": [],
   "source": [
    "# enviz.close()"
   ]
  },
  {
   "cell_type": "markdown",
   "metadata": {},
   "source": [
    "### Test in simulation"
   ]
  },
  {
   "cell_type": "code",
   "execution_count": 18,
   "metadata": {},
   "outputs": [
    {
     "name": "stderr",
     "output_type": "stream",
     "text": [
      "100%|██████████| 25/25 [00:28<00:00,  1.13s/it]\n"
     ]
    }
   ],
   "source": [
    "n_iterations = NUM_ITERATIONS\n",
    "n_ep = N_PLOT_EPISODES\n",
    "max_steps = 500\n",
    "gamma = 1.0\n",
    "# seeds = [684, 559, 629, 192, 835] # random seeds for testing\n",
    "seeds = np.random.randint(-10000, 10000, size=NUM_ITERATIONS)\n",
    "\n",
    "seed_reward_mean =[]\n",
    "seed_reward = []\n",
    "\n",
    "for itr in trange(n_iterations):\n",
    "    G = []\n",
    "    G_mean = []\n",
    "    for ep in range(n_ep):\n",
    "        state = env.reset()[0]\n",
    "        reward = 0\n",
    "        for step in range(max_steps):\n",
    "            action = bc_pendulum(torch.from_numpy(state)).detach().clip(-2,2).tolist()\n",
    "            # action = np.clip(action.detach().numpy(), -2, 2).tolist()\n",
    "            # print(f\"attempting action {action}\")\n",
    "            state, r, terminateed, truncated, _ = env.step(action)\n",
    "            reward += r*gamma**step\n",
    "        G.append(reward)\n",
    "        G_mean.append(np.mean(G))\n",
    "    seed_reward.append(G)\n",
    "    seed_reward_mean.append(G_mean)\n",
    "\n",
    "seed_reward_mean_bc = np.array(seed_reward_mean)\n",
    "    "
   ]
  },
  {
   "cell_type": "code",
   "execution_count": 19,
   "metadata": {},
   "outputs": [],
   "source": [
    "seed_reward_mean_bc = np.array(seed_reward_mean)\n",
    "mean_bc = np.mean(seed_reward_mean_bc, 0)\n",
    "std_bc = np.std(seed_reward_mean_bc, 0)"
   ]
  },
  {
   "cell_type": "code",
   "execution_count": 20,
   "metadata": {},
   "outputs": [],
   "source": [
    "# expert\n",
    "expert  = np.load(\"reward_mean_pendulum_expert.npy\")\n",
    "mean_expert= np.mean(expert,axis=0)\n",
    "std_expert = np.std(expert,axis=0)\n",
    "\n",
    "# subset to same length as sim. above\n",
    "mean_expert = mean_expert[:N_PLOT_EPISODES]\n",
    "std_expert = std_expert[:N_PLOT_EPISODES]"
   ]
  },
  {
   "cell_type": "code",
   "execution_count": 21,
   "metadata": {},
   "outputs": [],
   "source": [
    "# random\n",
    "random_mean  = np.load(\"reward_mean_pendulum_random.npy\")\n",
    "mean_random= np.mean(random_mean,axis=0)\n",
    "std_random  = np.std(random_mean,axis=0)\n",
    "\n",
    "# subset to same length as sim. above\n",
    "mean_random = mean_random[:N_PLOT_EPISODES]\n",
    "std_random = std_random[:N_PLOT_EPISODES]"
   ]
  },
  {
   "cell_type": "code",
   "execution_count": 22,
   "metadata": {},
   "outputs": [
    {
     "data": {
      "text/plain": [
       "((5, 1000), (5, 1000), (25, 25))"
      ]
     },
     "execution_count": 22,
     "metadata": {},
     "output_type": "execute_result"
    }
   ],
   "source": [
    "expert.shape, random_mean.shape, seed_reward_mean_bc.shape"
   ]
  },
  {
   "cell_type": "code",
   "execution_count": 23,
   "metadata": {},
   "outputs": [
    {
     "data": {
      "text/plain": [
       "<matplotlib.legend.Legend at 0x79d9df786ad0>"
      ]
     },
     "execution_count": 23,
     "metadata": {},
     "output_type": "execute_result"
    },
    {
     "data": {
      "image/png": "[encoded data removed]",
      "text/plain": [
       "<Figure size 640x480 with 1 Axes>"
      ]
     },
     "metadata": {},
     "output_type": "display_data"
    }
   ],
   "source": [
    "x = np.arange(N_PLOT_EPISODES)\n",
    "\n",
    "def add_to_plot(mean, std, lable):\n",
    "    plt.plot(x, mean, \"-\", label=lable)\n",
    "    plt.fill_between(x, mean+std, mean-std, alpha=0.2)\n",
    "\n",
    "add_to_plot(mean_expert, std_expert, \"Expert\")\n",
    "add_to_plot(mean_bc, std_bc, \"Behavior Clone\")\n",
    "add_to_plot(mean_random, std_random, \"Random\")\n",
    "\n",
    "plt.xlabel(\"Episodes\") \n",
    "plt.ylabel(\"Mean Reward\") \n",
    "plt.title(\"Random (purple) VS Expert (orange) VS BC (blue) in Pendulum\") \n",
    "plt.legend()\n"
   ]
  },
  {
   "cell_type": "code",
   "execution_count": 24,
   "metadata": {},
   "outputs": [
    {
     "data": {
      "text/plain": [
       "(True, True)"
      ]
     },
     "execution_count": 24,
     "metadata": {},
     "output_type": "execute_result"
    }
   ],
   "source": [
    "\n",
    "\n",
    "def t_test(x1, s1, n1, x2, s2, n2):\n",
    "    return (x1-x2)/np.sqrt((s1**2/n1)+(s2**2/n2))\n",
    "\n",
    "def pval(x1, s1, n1, x2, s2, n2):\n",
    "    t = t_test(x1, s1, n1, x2, s2, n2)\n",
    "    return (scipy.stats.t.sf(abs(t), n1+n2-1)*2).item()\n",
    "\n",
    "\n",
    "num_expert_samples = expert.shape[0]\n",
    "num_random_samples = random_mean.shape[0]\n",
    "\n",
    "expert_bc_different_distributions = pval(mean_expert[-20], std_expert[-20], num_expert_samples, mean_bc[-20], std_bc[-20], n_iterations) < 0.05\n",
    "random_bc_different_distributions = pval(mean_random[-20], std_random[-20], num_random_samples, mean_bc[-20], std_bc[-20], n_iterations) < 0.05\n",
    "\n",
    "expert_bc_different_distributions, random_bc_different_distributions"
   ]
  }
 ],
 "metadata": {
  "kernelspec": {
   "display_name": ".venv",
   "language": "python",
   "name": "python3"
  },
  "language_info": {
   "codemirror_mode": {
    "name": "ipython",
    "version": 3
   },
   "file_extension": ".py",
   "mimetype": "text/x-python",
   "name": "python",
   "nbconvert_exporter": "python",
   "pygments_lexer": "ipython3",
   "version": "3.10.12"
  }
 },
 "nbformat": 4,
 "nbformat_minor": 2
}
